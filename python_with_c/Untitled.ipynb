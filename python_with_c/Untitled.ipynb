{
 "cells": [
  {
   "cell_type": "code",
   "execution_count": 2,
   "metadata": {},
   "outputs": [],
   "source": [
    "def T_anneal(T, ii, num_steps, num_burnin):\n",
    "\n",
    "    #implement annealing code here\n",
    "\n",
    "    T_a = T*float(num_burnin - ii)/(num_burnin) + T\n",
    "    #T_a = T\n",
    "    return float(T_a)"
   ]
  },
  {
   "cell_type": "code",
   "execution_count": 3,
   "metadata": {},
   "outputs": [
    {
     "name": "stdout",
     "output_type": "stream",
     "text": [
      "4.0\n",
      "3.8\n",
      "3.6\n",
      "3.4\n",
      "3.2\n",
      "3.0\n",
      "2.8\n",
      "2.6\n",
      "2.4\n",
      "2.2\n",
      "2.0\n",
      "1.8\n",
      "1.6\n",
      "1.4\n",
      "1.2\n",
      "1.0\n",
      "0.8\n",
      "0.6000000000000001\n",
      "0.3999999999999999\n",
      "0.19999999999999996\n"
     ]
    }
   ],
   "source": [
    "T = 2.0\n",
    "num_burnin = 10\n",
    "num_steps = 20\n",
    "for step in range(num_steps):\n",
    "    print(T_anneal(T, step, num_steps, num_burnin))"
   ]
  },
  {
   "cell_type": "code",
   "execution_count": null,
   "metadata": {},
   "outputs": [],
   "source": []
  }
 ],
 "metadata": {
  "kernelspec": {
   "display_name": "Python 3",
   "language": "python",
   "name": "python3"
  },
  "language_info": {
   "codemirror_mode": {
    "name": "ipython",
    "version": 3
   },
   "file_extension": ".py",
   "mimetype": "text/x-python",
   "name": "python",
   "nbconvert_exporter": "python",
   "pygments_lexer": "ipython3",
   "version": "3.6.4"
  }
 },
 "nbformat": 4,
 "nbformat_minor": 2
}
